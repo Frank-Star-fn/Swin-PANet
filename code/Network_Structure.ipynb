{
 "cells": [
  {
   "cell_type": "code",
   "execution_count": 30,
   "metadata": {},
   "outputs": [
    {
     "name": "stdout",
     "output_type": "stream",
     "text": [
      "This is a brief introduction to the structure of the Swin-PANet.\n"
     ]
    }
   ],
   "source": [
    "import touch\n",
    "import torch.nn as nn\n",
    "\n",
    "n_channels = 3\n",
    "n_labels = 1\n",
    "epochs = 300\n",
    "img_size = 224\n",
    "vis_frequency = 10\n",
    "early_stopping_patience = 100\n",
    "pretrain = False\n",
    "task_name = 'GlaS' # GlaS, MoNuSeg, and ISIC 2016\n",
    "learning_rate = 5e-3\n",
    "batch_size = 2\n",
    "Transformer_patch_sizes = [2,4]\n",
    "# Transformer.dropout_rate = 0.1\n",
    "\n",
    "base_channel = 32\n",
    "class Swin_PANet(nn.Module):\n",
    "    def __init__(self, config, n_channels = 3, n_classes = 1,img_size = 224,vis = False):\n",
    "        super().__init__()\n",
    "        self.vis = vis\n",
    "        self.n_channels = n_channels\n",
    "        self.n_classes = n_classes\n",
    "        in_channels = config.base_channel\n",
    "        self.down1 = DownBlock(in_channels, in_channels*2, nb_Conv = 2)\n",
    "        self.down2 = DownBlock(in_channels*2, in_channels*4, nb_Conv = 2)\n",
    "        self.down3 = DownBlock(in_channels*4, in_channels*8, nb_Conv = 2)\n",
    "        self.down4 = DownBlock(in_channels*8, in_channels*8, nb_Conv = 2)\n",
    "        self.prior_attention_network = Intermediate_supervision(in_channels*2, in_channels*4, in_channels*8, in_channels*8)\n",
    "        self.up4 = UpBlock(in_channels*16, in_channels*4, in_channels*4, nb_Conv = 2)\n",
    "        self.up3 = UpBlock(in_channels*8, in_channels*2, in_channels*4, nb_Conv = 2)\n",
    "        self.up2 = UpBlock(in_channels*4, in_channels, in_channels*4, nb_Conv = 2)\n",
    "        self.up1 = UpBlock(in_channels*2, in_channels, in_channels*4, nb_Conv = 2)\n",
    "        self.outc = nn.Conv2d(in_channels, n_classes, kernel_size = (1,1), stride = (1,1))\n",
    "        self.last_activation = nn.Sigmoid() # if using BCELoss\n",
    "    def forward(self, x):\n",
    "        x = x.float()\n",
    "        x1 = self.ConvBatchNorm(x)\n",
    "        x2 = self.down1(x1)\n",
    "        x3 = self.down2(x2)\n",
    "        x4 = self.down3(x3)\n",
    "        x5 = self.down4(x4)\n",
    "        attention_prediction = self.prior_attention_network(x1,x2,x3,x4)\n",
    "        x = self.up4(x5, x4, attention_prediction)\n",
    "        x = self.up3(x, x3, attention_prediction)\n",
    "        x = self.up2(x, x2, attention_prediction)\n",
    "        x = self.up1(x, x1, attention_prediction)\n",
    "        logits = self.last_activation(self.outc(x))\n",
    "        return attention_prediction, logits\n",
    "\n",
    "'''\n",
    "model=Swin_PANet(config)\n",
    "images, masks = batch['image'], batch['label']\n",
    "images, masks = images.cuda(), masks.cuda()\n",
    "preds, attention_prediction = model(images)\n",
    "intermediate_loss = intermediate_criterion(attention_prediction, masks.float())\n",
    "out_loss = direct_criterion(preds, masks.float())\n",
    "intermediate_loss.backward(grad = True)\n",
    "out_loss.backward()\n",
    "optimizer.step()\n",
    "'''\n",
    "\n",
    "print('This is a brief introduction to the structure of the Swin-PANet.')"
   ]
  }
 ],
 "metadata": {
  "kernelspec": {
   "display_name": "Python 3",
   "language": "python",
   "name": "python3"
  },
  "language_info": {
   "codemirror_mode": {
    "name": "ipython",
    "version": 3
   },
   "file_extension": ".py",
   "mimetype": "text/x-python",
   "name": "python",
   "nbconvert_exporter": "python",
   "pygments_lexer": "ipython3",
   "version": "3.7.0"
  }
 },
 "nbformat": 4,
 "nbformat_minor": 2
}
